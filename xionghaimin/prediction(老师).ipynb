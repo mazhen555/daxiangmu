{
 "cells": [
  {
   "cell_type": "code",
   "execution_count": 1,
   "metadata": {},
   "outputs": [],
   "source": [
    "from math import sin\n",
    "import backtrader as bt\n",
    "import matplotlib.pyplot as plt\n",
    "import akshare as ak\n",
    "from sklearn import preprocessing\n",
    "import tensorflow as tf\n",
    "import numpy as np\n",
    "import math\n",
    "import pandas as pd\n",
    "from tensorflow.keras.layers import Input, Dense, Flatten, LSTM, SimpleRNN\n",
    "from tensorflow.keras.models import Model\n",
    "from tensorflow.keras.optimizers import Adam\n",
    "from joblib import dump, load"
   ]
  },
  {
   "cell_type": "code",
   "execution_count": 2,
   "metadata": {},
   "outputs": [],
   "source": [
    "def getTrain(stock,train_ratio=0.7,validation_ratio=0.2,features=range(0,4)):\n",
    "    stock.dropna()\n",
    "    x=stock.iloc[:-1,features].values\n",
    "    y=stock[\"close\"].values[1:].reshape(-1,1)\n",
    "\n",
    "    x_scalar=preprocessing.StandardScaler()\n",
    "    y_scalar=preprocessing.StandardScaler()\n",
    "\n",
    "    train_ends=math.floor(x.shape[0]*train_ratio)\n",
    "    validation_ends=train_ends+1+math.floor(x.shape[0]*validation_ratio)\n",
    "\n",
    "    x_train=x_scalar.fit_transform(x[0:train_ends,:])\n",
    "    y_train=y_scalar.fit_transform(y[0:train_ends]).reshape(-1)\n",
    "\n",
    "    x_validation=x_scalar.transform(x[train_ends:validation_ends,:])\n",
    "    y_validation=y_scalar.transform(y[train_ends:validation_ends]).reshape(-1)\n",
    "\n",
    "    x_test=x_scalar.transform(x[validation_ends:,:])\n",
    "    y_test=y_scalar.transform(y[validation_ends:]).reshape(-1)\n",
    "    return x_train,y_train,x_validation,y_validation,x_test,y_test,x_scalar,y_scalar"
   ]
  },
  {
   "cell_type": "code",
   "execution_count": 3,
   "metadata": {},
   "outputs": [],
   "source": [
    "def slice_time_series(x,y,win_size):\n",
    "    x_sliced=[]\n",
    "    y_sliced=[]\n",
    "    for t in range(len(x)-win_size):\n",
    "        x_sliced.append(x[t:t+win_size])\n",
    "        y_sliced.append(y[t+win_size-1])\n",
    "    x_sliced=np.array(x_sliced)\n",
    "    y_sliced=np.array(y_sliced)\n",
    "    return x_sliced.reshape((-1,win_size,feature_size)),y_sliced"
   ]
  },
  {
   "cell_type": "code",
   "execution_count": 4,
   "metadata": {},
   "outputs": [],
   "source": [
    "def build_model(win_size,feature_size,hiden=20):\n",
    "    i=Input(shape=(win_size,feature_size))\n",
    "    x=LSTM(hiden)(i)\n",
    "    x=Dense(1)(x)\n",
    "    model=Model(i,x)\n",
    "    model.compile(loss='mse',optimizer=Adam(lr=0.01))\n",
    "    return model"
   ]
  },
  {
   "cell_type": "code",
   "execution_count": 5,
   "metadata": {},
   "outputs": [],
   "source": [
    "def multi_step_predict(model,data,N=1,feature_size=1):\n",
    "    y_hat=[]\n",
    "    x_test_last=data\n",
    "    for i in range(N):\n",
    "        y_hat_s1=model.predict(x_test_last.reshape(1,-1,feature_size))[0,0]\n",
    "        x_test_last=np.roll(x_test_last,-1)\n",
    "        x_test_last[-1]=y_hat_s1\n",
    "        y_hat.append(y_hat_s1)\n",
    "    return y_hat\n"
   ]
  },
  {
   "cell_type": "code",
   "execution_count": 6,
   "metadata": {},
   "outputs": [
    {
     "data": {
      "text/plain": [
       "[<matplotlib.lines.Line2D at 0x22a92c38c18>]"
      ]
     },
     "execution_count": 6,
     "metadata": {},
     "output_type": "execute_result"
    },
    {
     "data": {
      "image/png": "[encoded data removed]",
      "text/plain": [
       "<Figure size 432x288 with 1 Axes>"
      ]
     },
     "metadata": {
      "needs_background": "light"
     },
     "output_type": "display_data"
    }
   ],
   "source": [
    "stock_hfq_df = ak.stock_zh_a_daily(symbol=\"sh600218\", adjust=\"hfq\")  # 利用 AkShare 获取后复权数据\n",
    "\n",
    "x_train,y_train,x_validation,y_validation,x_test,y_test,x_scalar,y_scalar=getTrain(\n",
    "    stock_hfq_df,train_ratio=0.7,validation_ratio=0.2,features=range(0,4))\n",
    "\n",
    "plt.plot(x_train[:,0])\n",
    "plt.plot(y_train[:])"
   ]
  },
  {
   "cell_type": "code",
   "execution_count": 7,
   "metadata": {},
   "outputs": [],
   "source": [
    "win_size=50\n",
    "feature_size=x_train.shape[1]\n",
    "x_train,y_train=slice_time_series(x_train,y_train,win_size)\n",
    "x_validation,y_validation=slice_time_series(x_validation,y_validation,win_size)\n",
    "x_test,y_test=slice_time_series(x_test,y_test,win_size)"
   ]
  },
  {
   "cell_type": "code",
   "execution_count": 8,
   "metadata": {},
   "outputs": [],
   "source": [
    "model=build_model(win_size,feature_size,hiden=30)"
   ]
  },
  {
   "cell_type": "code",
   "execution_count": 9,
   "metadata": {},
   "outputs": [
    {
     "name": "stdout",
     "output_type": "stream",
     "text": [
      "Epoch 1/30\n",
      "36/36 [==============================] - 1s 25ms/step - loss: 0.0460 - val_loss: 0.0206\n",
      "Epoch 2/30\n",
      "36/36 [==============================] - 1s 14ms/step - loss: 0.0080 - val_loss: 0.0159\n",
      "Epoch 3/30\n",
      "36/36 [==============================] - 0s 13ms/step - loss: 0.0069 - val_loss: 0.0150\n",
      "Epoch 4/30\n",
      "36/36 [==============================] - 0s 13ms/step - loss: 0.0066 - val_loss: 0.0153\n",
      "Epoch 5/30\n",
      "36/36 [==============================] - 0s 12ms/step - loss: 0.0070 - val_loss: 0.0137\n",
      "Epoch 6/30\n",
      "36/36 [==============================] - 0s 13ms/step - loss: 0.0061 - val_loss: 0.0135\n",
      "Epoch 7/30\n",
      "36/36 [==============================] - 0s 13ms/step - loss: 0.0055 - val_loss: 0.0131\n",
      "Epoch 8/30\n",
      "36/36 [==============================] - 1s 14ms/step - loss: 0.0053 - val_loss: 0.0111\n",
      "Epoch 9/30\n",
      "36/36 [==============================] - 1s 14ms/step - loss: 0.0051 - val_loss: 0.0109\n",
      "Epoch 10/30\n",
      "36/36 [==============================] - 0s 12ms/step - loss: 0.0048 - val_loss: 0.0105\n",
      "Epoch 11/30\n",
      "36/36 [==============================] - 0s 12ms/step - loss: 0.0049 - val_loss: 0.0096\n",
      "Epoch 12/30\n",
      "36/36 [==============================] - 1s 14ms/step - loss: 0.0047 - val_loss: 0.0094\n",
      "Epoch 13/30\n",
      "36/36 [==============================] - 1s 19ms/step - loss: 0.0044 - val_loss: 0.0094\n",
      "Epoch 14/30\n",
      "36/36 [==============================] - 1s 19ms/step - loss: 0.0044 - val_loss: 0.0094\n",
      "Epoch 15/30\n",
      "36/36 [==============================] - 0s 14ms/step - loss: 0.0045 - val_loss: 0.0097\n",
      "Epoch 16/30\n",
      "36/36 [==============================] - 0s 14ms/step - loss: 0.0043 - val_loss: 0.0094\n",
      "Epoch 17/30\n",
      "36/36 [==============================] - 0s 13ms/step - loss: 0.0041 - val_loss: 0.0090\n",
      "Epoch 18/30\n",
      "36/36 [==============================] - 0s 13ms/step - loss: 0.0041 - val_loss: 0.0089\n",
      "Epoch 19/30\n",
      "36/36 [==============================] - 1s 16ms/step - loss: 0.0040 - val_loss: 0.0100\n",
      "Epoch 20/30\n",
      "36/36 [==============================] - 0s 13ms/step - loss: 0.0040 - val_loss: 0.0102\n",
      "Epoch 21/30\n",
      "36/36 [==============================] - 0s 13ms/step - loss: 0.0041 - val_loss: 0.0097\n",
      "Epoch 22/30\n",
      "36/36 [==============================] - 0s 14ms/step - loss: 0.0048 - val_loss: 0.0094\n",
      "Epoch 23/30\n",
      "36/36 [==============================] - 0s 13ms/step - loss: 0.0042 - val_loss: 0.0088\n",
      "Epoch 24/30\n",
      "36/36 [==============================] - 0s 14ms/step - loss: 0.0047 - val_loss: 0.0090\n",
      "Epoch 25/30\n",
      "36/36 [==============================] - 1s 14ms/step - loss: 0.0044 - val_loss: 0.0092\n",
      "Epoch 26/30\n",
      "36/36 [==============================] - 1s 16ms/step - loss: 0.0042 - val_loss: 0.0091\n",
      "Epoch 27/30\n",
      "36/36 [==============================] - 1s 14ms/step - loss: 0.0041 - val_loss: 0.0088\n",
      "Epoch 28/30\n",
      "36/36 [==============================] - 0s 14ms/step - loss: 0.0043 - val_loss: 0.0087\n",
      "Epoch 29/30\n",
      "36/36 [==============================] - 0s 13ms/step - loss: 0.0040 - val_loss: 0.0087\n",
      "Epoch 30/30\n",
      "36/36 [==============================] - 0s 13ms/step - loss: 0.0040 - val_loss: 0.0088\n"
     ]
    }
   ],
   "source": [
    "result=model.fit(x_train,y_train,\n",
    "    batch_size=100,\n",
    "    epochs=30,\n",
    "    validation_data=(x_validation,y_validation))"
   ]
  },
  {
   "cell_type": "code",
   "execution_count": 10,
   "metadata": {},
   "outputs": [
    {
     "data": {
      "text/plain": [
       "<matplotlib.legend.Legend at 0x22aa10d1550>"
      ]
     },
     "execution_count": 10,
     "metadata": {},
     "output_type": "execute_result"
    },
    {
     "data": {
      "image/png": "[encoded data removed]",
      "text/plain": [
       "<Figure size 432x288 with 1 Axes>"
      ]
     },
     "metadata": {
      "needs_background": "light"
     },
     "output_type": "display_data"
    }
   ],
   "source": [
    "plt.plot(result.history['loss'],label=\"loss\")\n",
    "plt.plot(result.history['val_loss'],label=\"val_loss\")\n",
    "plt.legend()"
   ]
  },
  {
   "cell_type": "code",
   "execution_count": 11,
   "metadata": {},
   "outputs": [
    {
     "data": {
      "text/plain": [
       "<matplotlib.legend.Legend at 0x22aa1130048>"
      ]
     },
     "execution_count": 11,
     "metadata": {},
     "output_type": "execute_result"
    },
    {
     "data": {
      "image/png": "[encoded data removed]",
      "text/plain": [
       "<Figure size 432x288 with 1 Axes>"
      ]
     },
     "metadata": {
      "needs_background": "light"
     },
     "output_type": "display_data"
    }
   ],
   "source": [
    "y_hat=model.predict(x_test)\n",
    "plt.plot(y_test,label='true')\n",
    "plt.plot(y_hat,label='prediction')\n",
    "\n",
    "plt.legend()"
   ]
  },
  {
   "cell_type": "code",
   "execution_count": 12,
   "metadata": {},
   "outputs": [
    {
     "name": "stdout",
     "output_type": "stream",
     "text": [
      "1.0586017637045284\n"
     ]
    }
   ],
   "source": [
    "mase=np.sum(np.abs(y_hat[1:].reshape(-1)-y_test[1:]))/np.sum(np.abs(y_test[:-1]-y_test[1:]))\n",
    "print(mase)"
   ]
  },
  {
   "cell_type": "code",
   "execution_count": 13,
   "metadata": {},
   "outputs": [
    {
     "name": "stdout",
     "output_type": "stream",
     "text": [
      "0.5278969957081545\n"
     ]
    }
   ],
   "source": [
    "true_up=((y_test[1:]-y_test[:-1])>0)\n",
    "pred_up=((y_hat[:-1,0]-y_test[:-1])>0)\n",
    "correct=(true_up==pred_up)\n",
    "acc=np.sum(true_up==pred_up)/len(true_up)\n",
    "print(acc)"
   ]
  },
  {
   "cell_type": "code",
   "execution_count": 14,
   "metadata": {},
   "outputs": [
    {
     "name": "stdout",
     "output_type": "stream",
     "text": [
      "WARNING:tensorflow:From E:\\Anaconda\\py3\\lib\\site-packages\\tensorflow\\python\\training\\tracking\\tracking.py:111: Model.state_updates (from tensorflow.python.keras.engine.training) is deprecated and will be removed in a future version.\n",
      "Instructions for updating:\n",
      "This property should not be used in TensorFlow 2.0, as updates are applied automatically.\n",
      "WARNING:tensorflow:From E:\\Anaconda\\py3\\lib\\site-packages\\tensorflow\\python\\training\\tracking\\tracking.py:111: Layer.updates (from tensorflow.python.keras.engine.base_layer) is deprecated and will be removed in a future version.\n",
      "Instructions for updating:\n",
      "This property should not be used in TensorFlow 2.0, as updates are applied automatically.\n",
      "INFO:tensorflow:Assets written to: stock_model.mod\\assets\n"
     ]
    },
    {
     "data": {
      "text/plain": [
       "['y_scaler.bin']"
      ]
     },
     "execution_count": 14,
     "metadata": {},
     "output_type": "execute_result"
    }
   ],
   "source": [
    "model.save('stock_model.mod')\n",
    "dump(x_scalar, 'x_scaler.bin', compress=True)\n",
    "dump(y_scalar, 'y_scaler.bin', compress=True)\n"
   ]
  },
  {
   "cell_type": "code",
   "execution_count": null,
   "metadata": {},
   "outputs": [],
   "source": []
  }
 ],
 "metadata": {
  "kernelspec": {
   "display_name": "Python 3",
   "language": "python",
   "name": "python3"
  },
  "language_info": {
   "codemirror_mode": {
    "name": "ipython",
    "version": 3
   },
   "file_extension": ".py",
   "mimetype": "text/x-python",
   "name": "python",
   "nbconvert_exporter": "python",
   "pygments_lexer": "ipython3",
   "version": "3.7.0"
  }
 },
 "nbformat": 4,
 "nbformat_minor": 2
}
